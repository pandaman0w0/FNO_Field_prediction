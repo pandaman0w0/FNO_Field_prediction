{
 "cells": [
  {
   "cell_type": "code",
   "execution_count": null,
   "metadata": {
    "id": "nWha_PqC0yPq"
   },
   "outputs": [],
   "source": [
    "import torch\n",
    "import torch.nn as nn\n",
    "import numpy as np\n",
    "import os\n",
    "from torch.utils.data import TensorDataset, DataLoader, random_split\n",
    "import random\n",
    "import matplotlib.pyplot as plt"
   ]
  },
  {
   "cell_type": "code",
   "execution_count": null,
   "metadata": {
    "id": "R2N_1VSk0y8e"
   },
   "outputs": [],
   "source": [
    "class SpectralConv2d(nn.Module):\n",
    "    def __init__(self, in_channels, out_channels, modes1, modes2):\n",
    "        super(SpectralConv2d, self).__init__()\n",
    "        self.in_channels = in_channels\n",
    "        self.out_channels = out_channels\n",
    "        self.modes1 = modes1\n",
    "        self.modes2 = modes2\n",
    "\n",
    "        self.scale = (1 / (in_channels * out_channels))\n",
    "        self.weights1 = nn.Parameter(\n",
    "            self.scale * torch.rand(in_channels, out_channels, self.modes1, self.modes2, dtype=torch.cfloat)\n",
    "        )\n",
    "        self.weights2 = nn.Parameter(\n",
    "            self.scale * torch.rand(in_channels, out_channels, self.modes1, self.modes2, dtype=torch.cfloat)\n",
    "        )\n",
    "\n",
    "    def compl_mul2d(self, input, weights):\n",
    "        return torch.einsum(\"bixy,ioxy->boxy\", input, weights)\n",
    "\n",
    "    def forward(self, x):\n",
    "        batchsize = x.shape[0]\n",
    "        x_ft = torch.fft.rfft2(x)\n",
    "\n",
    "        out_ft = torch.zeros(\n",
    "            batchsize,\n",
    "            self.out_channels,\n",
    "            x.size(-2),\n",
    "            x.size(-1) // 2 + 1,\n",
    "            dtype=torch.cfloat,\n",
    "            device=x.device,\n",
    "        )\n",
    "\n",
    "        out_ft[:, :, : self.modes1, : self.modes2] = self.compl_mul2d(\n",
    "            x_ft[:, :, : self.modes1, : self.modes2], self.weights1\n",
    "        )\n",
    "        out_ft[:, :, -self.modes1 :, : self.modes2] = self.compl_mul2d(\n",
    "            x_ft[:, :, -self.modes1 :, : self.modes2], self.weights2\n",
    "        )\n",
    "\n",
    "        x = torch.fft.irfft2(out_ft, s=(x.size(-2), x.size(-1)))\n",
    "        return x\n",
    "\n",
    "\n",
    "class FNO2d(nn.Module):\n",
    "    def __init__(self, fno_architecture, device=None, padding_frac=1 / 4):\n",
    "        super(FNO2d, self).__init__()\n",
    "\n",
    "        self.modes1 = fno_architecture[\"modes\"]\n",
    "        self.modes2 = fno_architecture[\"modes\"]\n",
    "        self.width = fno_architecture[\"width\"]\n",
    "        self.n_layers = fno_architecture[\"n_layers\"]\n",
    "        self.retrain_fno = fno_architecture[\"retrain_fno\"]\n",
    "\n",
    "        torch.manual_seed(self.retrain_fno)\n",
    "        self.padding_frac = padding_frac\n",
    "        self.fc0 = nn.Linear(3, self.width)\n",
    "\n",
    "        self.conv_list = nn.ModuleList(\n",
    "            [nn.Conv2d(self.width, self.width, 1) for _ in range(self.n_layers)]\n",
    "        )\n",
    "        self.spectral_list = nn.ModuleList(\n",
    "            [\n",
    "                SpectralConv2d(self.width, self.width, self.modes1, self.modes2)\n",
    "                for _ in range(self.n_layers)\n",
    "            ]\n",
    "        )\n",
    "\n",
    "        self.fc1 = nn.Linear(self.width, 128)\n",
    "        self.fc2 = nn.Linear(128, 1)\n",
    "\n",
    "        if device is not None:\n",
    "            self.to(device)\n",
    "\n",
    "    def forward(self, x):\n",
    "        x = self.fc0(x)\n",
    "        x = x.permute(0, 3, 1, 2)\n",
    "\n",
    "        x1_padding = int(round(x.shape[-1] * self.padding_frac))\n",
    "        x2_padding = int(round(x.shape[-2] * self.padding_frac))\n",
    "        x = nn.functional.pad(x, [0, x1_padding, 0, x2_padding])\n",
    "\n",
    "        for k, (s, c) in enumerate(zip(self.spectral_list, self.conv_list)):\n",
    "            x1 = s(x)\n",
    "            x2 = c(x)\n",
    "            x = x1 + x2\n",
    "            if k != self.n_layers - 1:\n",
    "                x = nn.functional.gelu(x)\n",
    "\n",
    "        x = x[..., :-x1_padding, :-x2_padding]\n",
    "\n",
    "        x = x.permute(0, 2, 3, 1)\n",
    "        x = self.fc1(x)\n",
    "        x = nn.functional.gelu(x)\n",
    "        x = self.fc2(x)\n",
    "        return x\n",
    "\n"
   ]
  },
  {
   "cell_type": "code",
   "execution_count": null,
   "metadata": {
    "id": "UAYKYU8Srydj"
   },
   "outputs": [],
   "source": [
    "fno_architecture = {\n",
    "    \"modes\": 32,\n",
    "    \"width\": 64,\n",
    "    \"n_layers\": 12,\n",
    "    \"retrain_fno\": 42\n",
    "}\n",
    "device = torch.device('cuda' if torch.cuda.is_available() else 'cpu')\n",
    "# Initialize the FNO model\n",
    "fno = FNO2d(fno_architecture, device=device)"
   ]
  },
  {
   "cell_type": "code",
   "execution_count": null,
   "metadata": {
    "id": "kyWnex8409g_"
   },
   "outputs": [],
   "source": [
    "model_save_dir = '/content/drive/My Drive/Colab Notebooks/saved_models'\n",
    "model_filename = 'fno_epoch_1000.pth'  \n",
    "model_path = os.path.join(model_save_dir, model_filename)"
   ]
  },
  {
   "cell_type": "code",
   "execution_count": null,
   "metadata": {
    "colab": {
     "base_uri": "https://localhost:8080/"
    },
    "executionInfo": {
     "elapsed": 19013,
     "status": "ok",
     "timestamp": 1733191435755,
     "user": {
      "displayName": "pan pan",
      "userId": "13937346862066559159"
     },
     "user_tz": 300
    },
    "id": "hW3lFYqIsO7R",
    "outputId": "8819b940-764d-4c4f-feba-87eb2db1d752"
   },
   "outputs": [
    {
     "name": "stdout",
     "output_type": "stream",
     "text": [
      "Mounted at /content/drive\n"
     ]
    }
   ],
   "source": [
    "from google.colab import drive\n",
    "drive.mount('/content/drive')"
   ]
  },
  {
   "cell_type": "code",
   "execution_count": null,
   "metadata": {
    "colab": {
     "base_uri": "https://localhost:8080/"
    },
    "executionInfo": {
     "elapsed": 8417,
     "status": "ok",
     "timestamp": 1733191450799,
     "user": {
      "displayName": "pan pan",
      "userId": "13937346862066559159"
     },
     "user_tz": 300
    },
    "id": "QfC40g4DsKSM",
    "outputId": "e841eed7-e742-44aa-8c19-7e2e27474f29"
   },
   "outputs": [],
   "source": [
    "fno.load_state_dict(torch.load(model_path, map_location=device))\n",
    "fno.eval()"
   ]
  },
  {
   "cell_type": "code",
   "execution_count": null,
   "metadata": {
    "colab": {
     "base_uri": "https://localhost:8080/"
    },
    "executionInfo": {
     "elapsed": 4125,
     "status": "ok",
     "timestamp": 1733191454922,
     "user": {
      "displayName": "pan pan",
      "userId": "13937346862066559159"
     },
     "user_tz": 300
    },
    "id": "g_2Qbk6D0_Ps",
    "outputId": "99eee5a7-52cb-4459-f1b6-391bff70558f"
   },
   "outputs": [],
   "source": [
    "input_tensor = torch.load('/content/drive/My Drive/Colab Notebooks/input_tensor_test.pt')\n",
    "output_tensor = torch.load('/content/drive/My Drive/Colab Notebooks/output_tensor_test.pt')"
   ]
  },
  {
   "cell_type": "code",
   "execution_count": null,
   "metadata": {
    "colab": {
     "background_save": true,
     "base_uri": "https://localhost:8080/",
     "height": 1000,
     "output_embedded_package_id": "1gKfTzLuRjKnE8dvglidqbHLksJt6dqrp"
    },
    "executionInfo": {
     "elapsed": 20571,
     "status": "ok",
     "timestamp": 1733192105495,
     "user": {
      "displayName": "pan pan",
      "userId": "13937346862066559159"
     },
     "user_tz": 300
    },
    "id": "RaVfQt9gXPtr",
    "outputId": "b326f956-d8ec-4e45-b07f-dab2b69d9f4a"
   },
   "outputs": [
    {
     "data": {
      "text/plain": [
       "Output hidden; open in https://colab.research.google.com to view."
      ]
     },
     "metadata": {},
     "output_type": "display_data"
    }
   ],
   "source": [
    "dataset = TensorDataset(input_tensor, output_tensor)\n",
    "train_size = int(0 * len(dataset))\n",
    "test_size = len(dataset) - train_size\n",
    "training_set, testing_set = random_split(dataset, [train_size, test_size])\n",
    "test_loader = DataLoader(testing_set, batch_size=1, shuffle=False)\n",
    "mse_loss = nn.MSELoss()\n",
    "total_loss = 0.0\n",
    "N=7\n",
    "plot_data = {}\n",
    "\n",
    "for idx, (input_sample, output_sample) in enumerate(test_loader):\n",
    "\n",
    "    input_sample = input_sample.to(device)  \n",
    "    output_sample = output_sample.to(device)  \n",
    "\n",
    "    # Use the trained FNO to produce the output data\n",
    "    with torch.no_grad():\n",
    "        output_pred = fno(input_sample)  \n",
    "    loss = mse_loss(output_pred, output_sample)\n",
    "    total_loss += loss.item()\n",
    "    input_sample_np = input_sample.cpu().numpy().squeeze(0) \n",
    "    output_true_np = output_sample.cpu().numpy().squeeze(0) \n",
    "    output_pred_np = output_pred.cpu().numpy().squeeze(0)    \n",
    "\n",
    "    input_a = input_sample_np[:, :, 0]     # [837, 837]\n",
    "    true_sample = output_true_np[:, :, 0]  # [837, 837]\n",
    "    pred_sample = output_pred_np[:, :, 0]  # [837, 837]\n",
    "\n",
    "    # Plot only the first N samples\n",
    "    if idx < N:\n",
    "        # Plot the input a(x,y), true output, and predicted output\n",
    "        plt.figure(figsize=(18, 5))\n",
    "\n",
    "        # First Subplot: Input a(x, y)\n",
    "        plt.subplot(1, 3, 1)\n",
    "        plt.imshow(input_a, cmap='viridis', origin='lower')\n",
    "        plt.axis('off')  # Optionally remove axes\n",
    "        plt.colorbar()\n",
    "\n",
    "        # Second Subplot: True Output\n",
    "        plt.subplot(1, 3, 2)\n",
    "        plt.imshow(true_sample, cmap='viridis', origin='lower')\n",
    "        plt.axis('off')  # Optionally remove axes\n",
    "        plt.colorbar()\n",
    "\n",
    "        # Third Subplot: Predicted Output\n",
    "        plt.subplot(1, 3, 3)\n",
    "        plt.imshow(pred_sample, cmap='viridis', origin='lower')\n",
    "        plt.axis('off')  # Optionally remove axes\n",
    "        plt.colorbar()\n",
    "\n",
    "        plt.tight_layout()\n",
    "        plt.show()\n",
    "\n",
    "        # Extract the center line along y at the center x-coordinate\n",
    "        center_x = true_sample.shape[0] // 2  # Assuming shape[1] is the x-dimension\n",
    "        y_values = np.arange(true_sample.shape[1])  # y-coordinates\n",
    "\n",
    "        true_center_line = true_sample[ :,center_x]\n",
    "        pred_center_line = pred_sample[ :,center_x]\n",
    "\n",
    "        # Plot the center line values\n",
    "        plt.figure(figsize=(8, 6))\n",
    "        index = idx\n",
    "        # Calculate the range of the axes to make them equal\n",
    "        #x_min, x_max = min(y_values), max(y_values)\n",
    "        #y_min, y_max = min(min(true_center_line), min(pred_center_line)), max(max(true_center_line), max(pred_center_line))\n",
    "        #verall_min = min(x_min, y_min)\n",
    "        #overall_max = max(x_max, y_max)\n",
    "\n",
    "        # Save the data for the current plot\n",
    "        plot_data[index] = {\n",
    "            'y_values': y_values,\n",
    "            'true_center_line': true_center_line,\n",
    "            'pred_center_line': pred_center_line\n",
    "        }\n",
    "        with plt.rc_context({'font.size': 16}):\n",
    "            plt.plot(y_values, true_center_line, label='Simulation', color='blue')\n",
    "            plt.plot(y_values, pred_center_line, label='FNO', color='red', linestyle='--')\n",
    "\n",
    "            # Set title to the index of the datum\n",
    "            plt.title(f'Index: {index}')\n",
    "\n",
    "            # Remove labels\n",
    "            # plt.xlabel('y-coordinate')\n",
    "            # plt.ylabel('Value')\n",
    "\n",
    "            plt.legend()\n",
    "            ax = plt.gca()\n",
    "\n",
    "            # Automatically fit x and y axis into a square plot\n",
    "            ax.set_aspect('equal', adjustable='box')  # Maintain equal aspect ratio with adjustable limits\n",
    "\n",
    "            # Tighten the layout\n",
    "            plt.tight_layout()\n",
    "\n",
    "            # Remove x and y axis numbers\n",
    "            ax.set_xticks([])\n",
    "            ax.set_yticks([])\n",
    "\n",
    "            plt.show()\n",
    "\n",
    "        plt.tight_layout()\n",
    "        plt.show()\n",
    "\n",
    "# Calculate the average MSE loss over all samples\n",
    "average_loss = total_loss / len(test_loader)\n",
    "print(f'MSE loss on the test set: {average_loss}')"
   ]
  },
  {
   "cell_type": "code",
   "execution_count": null,
   "metadata": {
    "colab": {
     "background_save": true,
     "base_uri": "https://localhost:8080/",
     "height": 1000,
     "output_embedded_package_id": "1WxpDxObuwEW7U-RSOCK9CIaPVpZf_0Tw"
    },
    "executionInfo": {
     "elapsed": 31680,
     "status": "ok",
     "timestamp": 1733192603165,
     "user": {
      "displayName": "pan pan",
      "userId": "13937346862066559159"
     },
     "user_tz": 300
    },
    "id": "C337MR9LUwfJ",
    "outputId": "97e500a9-2bbb-44ae-a793-25c63c5144d5"
   },
   "outputs": [],
   "source": [
    "for idx, (input_sample, output_sample) in enumerate(test_loader):\n",
    "    input_sample = input_sample.to(device)\n",
    "    output_sample = output_sample.to(device)\n",
    "\n",
    "    with torch.no_grad():\n",
    "        output_pred = fno(input_sample)\n",
    "\n",
    "    loss = mse_loss(output_pred, output_sample)\n",
    "    total_loss += loss.item()\n",
    "\n",
    "    input_sample_np = input_sample.cpu().numpy().squeeze(0)\n",
    "    output_true_np = output_sample.cpu().numpy().squeeze(0)\n",
    "    output_pred_np = output_pred.cpu().numpy().squeeze(0)\n",
    "\n",
    "    input_a = input_sample_np[:, :, 0]\n",
    "    true_sample = output_true_np[:, :, 0]\n",
    "    pred_sample = output_pred_np[:, :, 0]\n",
    "\n",
    "    if idx < N:\n",
    "        plt.figure(figsize=(18, 5))\n",
    "\n",
    "        plt.subplot(1, 3, 1)\n",
    "        plt.imshow(input_a, cmap='viridis', origin='lower')\n",
    "        plt.axis('off')\n",
    "        plt.colorbar()\n",
    "        plt.title('Input a(x, y)')\n",
    "\n",
    "        plt.subplot(1, 3, 2)\n",
    "        plt.imshow(true_sample, cmap='viridis', origin='lower')\n",
    "        plt.axis('off')\n",
    "        plt.colorbar()\n",
    "        plt.title('True Output')\n",
    "\n",
    "        plt.subplot(1, 3, 3)\n",
    "        plt.imshow(pred_sample, cmap='viridis', origin='lower')\n",
    "        plt.axis('off')\n",
    "        plt.colorbar()\n",
    "        plt.title('Predicted Output')\n",
    "\n",
    "        plt.tight_layout()\n",
    "        plt.show()\n",
    "\n",
    "        center_x = true_sample.shape[1] // 2\n",
    "        y_values = np.arange(true_sample.shape[0])\n",
    "\n",
    "        true_center_line = true_sample[:,center_x]\n",
    "        pred_center_line = pred_sample[:,center_x]\n",
    "\n",
    "        plt.figure(figsize=(10, 6))\n",
    "        index = idx\n",
    "\n",
    "        plot_data[index] = {\n",
    "            'y_values': y_values,\n",
    "            'true_center_line': true_center_line,\n",
    "            'pred_center_line': pred_center_line\n",
    "        }\n",
    "\n",
    "        with plt.rc_context({'font.size': 16}):\n",
    "            plt.plot(y_values, true_center_line, label='Simulation', color='blue')\n",
    "            plt.plot(y_values, pred_center_line, label='FNO', color='red', linestyle='--')\n",
    "            plt.title(f'Center Line Plot - Index: {index}')\n",
    "            plt.xlabel('y-coordinate')\n",
    "            plt.ylabel('Value')\n",
    "            plt.legend()\n",
    "            ax = plt.gca()\n",
    "            ax.set_aspect('auto', adjustable='box')\n",
    "            plt.tight_layout()\n",
    "            ax.set_xticks([])\n",
    "            ax.set_yticks([])\n",
    "            plt.show()\n",
    "\n",
    "        fft_true = np.fft.fft(true_center_line)\n",
    "        fft_pred = np.fft.fft(pred_center_line)\n",
    "        freqs = np.fft.fftfreq(len(y_values), d=1)\n",
    "        pos_mask = freqs >= 0\n",
    "        freqs_pos = freqs[pos_mask]\n",
    "        fft_true_pos = fft_true[pos_mask]\n",
    "        fft_pred_pos = fft_pred[pos_mask]\n",
    "\n",
    "        magnitude_true = np.abs(fft_true_pos)\n",
    "        magnitude_pred = np.abs(fft_pred_pos)\n",
    "\n",
    "        plt.figure(figsize=(12, 6))\n",
    "\n",
    "        plt.subplot(1, 2, 1)\n",
    "        plt.plot(freqs_pos, magnitude_true, color='blue')\n",
    "        plt.title('FFT of True Center Line')\n",
    "        plt.xlabel('Frequency')\n",
    "        plt.ylabel('Magnitude')\n",
    "        plt.grid(True)\n",
    "\n",
    "        plt.subplot(1, 2, 2)\n",
    "        plt.plot(freqs_pos, magnitude_pred, color='red')\n",
    "        plt.title('FFT of Predicted Center Line')\n",
    "        plt.xlabel('Frequency')\n",
    "        plt.ylabel('Magnitude')\n",
    "        plt.grid(True)\n",
    "\n",
    "        plt.tight_layout()\n",
    "        plt.show()\n",
    "\n",
    "        plt.figure(figsize=(10, 6))\n",
    "        plt.plot(freqs_pos, magnitude_true, label='Simulation FFT', color='blue')\n",
    "        plt.plot(freqs_pos, magnitude_pred, label='FNO FFT', color='red', linestyle='--')\n",
    "        plt.title(f'FFT Comparison - Index: {index}')\n",
    "        plt.xlabel('Frequency')\n",
    "        plt.ylabel('Magnitude')\n",
    "        plt.legend()\n",
    "        plt.grid(True)\n",
    "        plt.tight_layout()\n",
    "        plt.show()\n"
   ]
  },
  {
   "cell_type": "code",
   "execution_count": null,
   "metadata": {
    "id": "PtZOfXO3WcxL"
   },
   "outputs": [],
   "source": [
    "dataset = TensorDataset(input_tensor, output_tensor)\n",
    "train_size = int(0 * len(dataset))\n",
    "test_size = len(dataset) - train_size\n",
    "training_set, testing_set = random_split(dataset, [train_size, test_size])\n",
    "\n",
    "M = 10  \n",
    "\n",
    "random_indices = random.sample(range(len(testing_set)), M)\n",
    "\n",
    "input_samples = []\n",
    "output_samples = []\n",
    "\n",
    "for idx in random_indices:\n",
    "    input_sample, output_sample = testing_set[idx]\n",
    "    input_samples.append(input_sample)\n",
    "    output_samples.append(output_sample)"
   ]
  },
  {
   "cell_type": "code",
   "execution_count": null,
   "metadata": {
    "id": "wqIox-YTqItl"
   },
   "outputs": [],
   "source": []
  }
 ],
 "metadata": {
  "accelerator": "GPU",
  "colab": {
   "authorship_tag": "ABX9TyMsRDoau/3k4noQ5+7Xqo66",
   "gpuType": "A100",
   "machine_shape": "hm",
   "name": "",
   "version": ""
  },
  "kernelspec": {
   "display_name": "Python 3 (ipykernel)",
   "language": "python",
   "name": "python3"
  },
  "language_info": {
   "codemirror_mode": {
    "name": "ipython",
    "version": 3
   },
   "file_extension": ".py",
   "mimetype": "text/x-python",
   "name": "python",
   "nbconvert_exporter": "python",
   "pygments_lexer": "ipython3",
   "version": "3.9.7"
  }
 },
 "nbformat": 4,
 "nbformat_minor": 1
}
